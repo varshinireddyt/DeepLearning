{
 "cells": [
  {
   "cell_type": "markdown",
   "metadata": {},
   "source": [
    "Forward Propagation:\n",
    "This notebook explain how forward propagation works in neurl network.\n",
    "\n",
    "Steps involved:\n",
    "1. Multiply & add process\n",
    "2. Dot Product\n",
    "3. Forward pass for one data point at a time\n",
    "4. Output is the prediction for that data point\n",
    "\n",
    "For now, consider a neural network with\n",
    "input layer, 1 hidden layer, ouput layer"
   ]
  },
  {
   "cell_type": "code",
   "execution_count": 27,
   "metadata": {},
   "outputs": [
    {
     "name": "stdout",
     "output_type": "stream",
     "text": [
      "Hidden layer values:  [-8 31]\n",
      "Output:  -8\n"
     ]
    }
   ],
   "source": [
    "import numpy as np #Linear Algebra\n",
    "\n",
    "#defining input_data\n",
    "input_data = np.array([[2,3],[1,-1],[3,5]])\n",
    "\n",
    "#defining weights for all the hidden and output layers\n",
    "weights = {\n",
    "            'node_0' : [1,-2],\n",
    "            'node_1' : [4,1],\n",
    "            'output' : [1,0]\n",
    "           }\n",
    "\n",
    "#multiply and add\n",
    "node_0_val = (input_data * weights['node_0']).sum()\n",
    "node_1_val = (input_data * weights['node_1']).sum()\n",
    "\n",
    "#Dot product\n",
    "hidden_val = np.array([node_0_val,node_1_val])\n",
    "\n",
    "print('Hidden layer values: ', hidden_val)\n",
    "\n",
    "#Output\n",
    "output = (hidden_val * weights['output']).sum()\n",
    "\n",
    "print('Output: ', output)"
   ]
  },
  {
   "cell_type": "markdown",
   "metadata": {},
   "source": [
    "Activation Function: It is function applied at each node and converts node's output to some output. \n",
    "The main goal of the activation function is to add non linearity.\n",
    "\n",
    "There are different activation layer, most frequently used are:\n",
    "1. ReLU(Rectified linear Activation) \n",
    "g(x) = 0 if x is negative\n",
    "g(x) = x if x is positive"
   ]
  },
  {
   "cell_type": "code",
   "execution_count": 28,
   "metadata": {},
   "outputs": [],
   "source": [
    "def relu(input):\n",
    "    output = max(input,0)    \n",
    "    return output"
   ]
  },
  {
   "cell_type": "markdown",
   "metadata": {},
   "source": [
    "Applying activation"
   ]
  },
  {
   "cell_type": "code",
   "execution_count": 30,
   "metadata": {},
   "outputs": [],
   "source": [
    "def nn_activation(input_data_point,weights):\n",
    "\n",
    "    node_0_val = (input_data_point * weights['node_0']).sum()\n",
    "    #pass node_0_val to activation function\n",
    "    node_0_output = relu(node_0_val)\n",
    "\n",
    "    node_1_val = (input_data_point * weights['node_1']).sum()\n",
    "    node_1_output = relu(node_1_val)\n",
    "\n",
    "    hidden_val = np.array([node_0_output,node_1_output])\n",
    "\n",
    "    print('hidden layer value after applying activation', hidden_val)\n",
    "\n",
    "    output = (hidden_val * weights['output']).sum()\n",
    "\n",
    "    print('Output: ',output)\n",
    "    \n",
    "    return output"
   ]
  },
  {
   "cell_type": "code",
   "execution_count": 31,
   "metadata": {},
   "outputs": [
    {
     "name": "stdout",
     "output_type": "stream",
     "text": [
      "hidden layer value after applying activation [ 0 11]\n",
      "Output:  0\n",
      "hidden layer value after applying activation [3 3]\n",
      "Output:  3\n",
      "hidden layer value after applying activation [ 0 17]\n",
      "Output:  0\n",
      "[0, 3, 0]\n"
     ]
    }
   ],
   "source": [
    "results = []\n",
    "for input_data_point in input_data:\n",
    "    # Append prediction to results\n",
    "    results.append(nn_activation(input_data_point,weights))\n",
    "\n",
    "print(results)"
   ]
  },
  {
   "cell_type": "code",
   "execution_count": null,
   "metadata": {},
   "outputs": [],
   "source": []
  }
 ],
 "metadata": {
  "kernelspec": {
   "display_name": "Python 3",
   "language": "python",
   "name": "python3"
  },
  "language_info": {
   "codemirror_mode": {
    "name": "ipython",
    "version": 3
   },
   "file_extension": ".py",
   "mimetype": "text/x-python",
   "name": "python",
   "nbconvert_exporter": "python",
   "pygments_lexer": "ipython3",
   "version": "3.7.4"
  }
 },
 "nbformat": 4,
 "nbformat_minor": 2
}
