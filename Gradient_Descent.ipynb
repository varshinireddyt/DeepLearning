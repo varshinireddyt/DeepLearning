{
 "cells": [
  {
   "cell_type": "markdown",
   "metadata": {},
   "source": [
    "### Gradient Descent\n",
    "\n",
    "Before going to the Gradient Descent, we need to know the loss function. A loss function is nothing but difference between our actual and predicted values. Lower the loss function better the model.\n",
    "\n",
    "Our goal is to find the weights that gives the lowest value for the loss function. \n",
    "\n",
    "\n",
    "Gradient Descent is defined as the process to minimize to loss function.\n",
    "\n",
    "\n",
    "Gradient Descent Steps: \n",
    "\n",
    "1. Start at a random point\n",
    "2. Find the slope, take a step downhill until you find the minimum loss\n",
    "\n",
    "\n",
    "\n",
    "Here's small example of finding the loss and slope"
   ]
  },
  {
   "cell_type": "code",
   "execution_count": 7,
   "metadata": {},
   "outputs": [
    {
     "name": "stdout",
     "output_type": "stream",
     "text": [
      "Slope:  [-14 -28 -42]\n",
      "Error:  -7\n"
     ]
    }
   ],
   "source": [
    "import numpy as np\n",
    "import matplotlib.pyplot as plt\n",
    "\n",
    "input_data = np.array([1,2,3])  #input \n",
    "weights = np.array([0,2,1])     #weights\n",
    "target = 0                      #target\n",
    "\n",
    "pred = (weights * input_data).sum()  #prediction\n",
    "\n",
    "error = target - pred   #calculating error\n",
    "\n",
    "\n",
    "slope = 2 * input_data * error #calculating slope\n",
    "\n",
    "\n",
    "print('Slope: ', slope)\n",
    "\n",
    "print('Error: ', error)\n",
    "\n"
   ]
  },
  {
   "cell_type": "markdown",
   "metadata": {},
   "source": [
    "Here the slope is nothing but Gradient\n",
    "\n",
    "If the slope is positive: \n",
    "* Going opposite the slope means moving to lower numbers\n",
    "* Subtract the slope from the current value\n",
    "* Too big a step might lead us astray\n",
    "\n",
    "Solution: learning rate\n",
    "\n",
    "##### Update each weight by subtracting learning rate * slope\n"
   ]
  },
  {
   "cell_type": "code",
   "execution_count": 4,
   "metadata": {},
   "outputs": [],
   "source": [
    "learning_rate = 0.01\n",
    "\n",
    "weights_updated = weights - (slope * learning_rate)  #formula to calculate the slope of the weights"
   ]
  },
  {
   "cell_type": "code",
   "execution_count": 9,
   "metadata": {},
   "outputs": [],
   "source": [
    "#slope function\n",
    "def get_slope(input, target, weights):\n",
    "    pred = (weights * input).sum()  #prediction\n",
    "    error = pred - target   #calculating error\n",
    "    slope = 2 * input_data * error\n",
    "    return slope\n",
    "\n",
    "    "
   ]
  },
  {
   "cell_type": "code",
   "execution_count": 10,
   "metadata": {},
   "outputs": [],
   "source": [
    "#mean square error\n",
    "def get_mse(input,target,weights):\n",
    "    pred = (weights * input).sum() \n",
    "    mse = np.square(np.subtract(target,pred)).mean() \n",
    "    return mse"
   ]
  },
  {
   "cell_type": "code",
   "execution_count": 11,
   "metadata": {},
   "outputs": [
    {
     "data": {
      "image/png": "[encoded data removed]",
      "text/plain": [
       "<Figure size 432x288 with 1 Axes>"
      ]
     },
     "metadata": {
      "needs_background": "light"
     },
     "output_type": "display_data"
    }
   ],
   "source": [
    "n_updates = 20\n",
    "mse_hist = []\n",
    "learning_rate = 0.01\n",
    "\n",
    "for i in range(n_updates):\n",
    "    # Calculate the slope: slope\n",
    "    slope = get_slope(input_data, target, weights)\n",
    "    \n",
    "    # Update the weights: weights\n",
    "    weights = weights - learning_rate * slope\n",
    "    \n",
    "    # Calculate mse with new weights: mse\n",
    "    mse = get_mse(input_data, target, weights)\n",
    "    \n",
    "    # Append the mse to mse_hist\n",
    "    mse_hist.append(mse)\n",
    "\n",
    "# Plot the mse history\n",
    "plt.plot(mse_hist)\n",
    "plt.xlabel('Iterations')\n",
    "plt.ylabel('Mean Squared Error')\n",
    "plt.show()"
   ]
  },
  {
   "cell_type": "markdown",
   "metadata": {},
   "source": [
    "From the above graph, we see that mean square error decreases as the number of iteration increases."
   ]
  },
  {
   "cell_type": "code",
   "execution_count": null,
   "metadata": {},
   "outputs": [],
   "source": []
  }
 ],
 "metadata": {
  "kernelspec": {
   "display_name": "Python 3",
   "language": "python",
   "name": "python3"
  },
  "language_info": {
   "codemirror_mode": {
    "name": "ipython",
    "version": 3
   },
   "file_extension": ".py",
   "mimetype": "text/x-python",
   "name": "python",
   "nbconvert_exporter": "python",
   "pygments_lexer": "ipython3",
   "version": "3.7.4"
  }
 },
 "nbformat": 4,
 "nbformat_minor": 2
}
